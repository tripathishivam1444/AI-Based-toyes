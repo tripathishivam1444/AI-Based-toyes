{
 "cells": [
  {
   "cell_type": "markdown",
   "id": "eced2475",
   "metadata": {},
   "source": [
    "## This project I was started for making AI Based toyes 1 April 2023"
   ]
  },
  {
   "cell_type": "code",
   "execution_count": null,
   "id": "aa61dc2e",
   "metadata": {},
   "outputs": [],
   "source": []
  },
  {
   "cell_type": "code",
   "execution_count": null,
   "id": "19f226b6",
   "metadata": {},
   "outputs": [],
   "source": []
  },
  {
   "cell_type": "code",
   "execution_count": 39,
   "id": "cac3e2b2",
   "metadata": {},
   "outputs": [
    {
     "name": "stdout",
     "output_type": "stream",
     "text": [
      "Speak now...\n",
      "You said: kutta kaise bolata hai\n"
     ]
    }
   ],
   "source": [
    "import speech_recognition as sr\n",
    "\n",
    "\n",
    "\n",
    "# Create a recognizer object\n",
    "r = sr.Recognizer()\n",
    "\n",
    "# Use the default microphone as the source\n",
    "with sr.Microphone() as source:\n",
    "\n",
    "    # Adjust for ambient noise\n",
    "    r.adjust_for_ambient_noise(source)\n",
    "\n",
    "    # Listen for the user's speech input\n",
    "    print(\"Speak now...\")\n",
    "    audio = r.listen(source)\n",
    "\n",
    "    # Recognize the speech input using Google Speech Recognition\n",
    "    try:\n",
    "        text = r.recognize_google(audio)\n",
    "        print(f\"You said: {text}\")\n",
    "        \n",
    "        if \"Hathi\" in text:\n",
    "            playsound(\"Elephantt.mp3\")\n",
    "\n",
    "            \n",
    "        elif \"kutta\" in text:\n",
    "            playsound(\"dog.mp3\")\n",
    "\n",
    "            \n",
    "        elif \"Billi\" in text:\n",
    "            playsound(\"at.mp3\")\n",
    "\n",
    "            \n",
    "        else:\n",
    "            print(f\"You said: {text}\")\n",
    "        \n",
    "    except sr.UnknownValueError:\n",
    "        print(\"Sorry, I didn't understand what you said.\")\n",
    "    except sr.RequestError:\n",
    "        print(\"Sorry, the speech recognition service is unavailable.\")\n",
    "        \n",
    "        "
   ]
  },
  {
   "cell_type": "code",
   "execution_count": 32,
   "id": "3b1ea49d",
   "metadata": {},
   "outputs": [],
   "source": [
    "from PIL import Image\n",
    "Image.open(\"dd.jpg\").show()\n"
   ]
  },
  {
   "cell_type": "code",
   "execution_count": 3,
   "id": "c8a96260",
   "metadata": {},
   "outputs": [],
   "source": [
    "from playsound import playsound\n",
    "\n",
    "playsound(\"elephant.mp3\")"
   ]
  },
  {
   "cell_type": "code",
   "execution_count": null,
   "id": "de53646a",
   "metadata": {},
   "outputs": [],
   "source": [
    "import os\n",
    "\n",
    "dir = os.getcwd() + \"\\\\\"\n",
    "dir"
   ]
  },
  {
   "cell_type": "code",
   "execution_count": null,
   "id": "a8fb54b7",
   "metadata": {},
   "outputs": [],
   "source": [
    "import os\n",
    "\n",
    "# get the current directory path\n",
    "path = os.getcwd()\n",
    "\n",
    "# get all file names in the current directory\n",
    "files = os.listdir(path)\n",
    "\n",
    "# print all file names\n",
    "\n",
    "for file in files:\n",
    "    if \n",
    "    print(file)\n"
   ]
  },
  {
   "cell_type": "code",
   "execution_count": null,
   "id": "71a29cf4",
   "metadata": {},
   "outputs": [],
   "source": []
  },
  {
   "cell_type": "code",
   "execution_count": null,
   "id": "76f6caf0",
   "metadata": {},
   "outputs": [],
   "source": []
  },
  {
   "cell_type": "code",
   "execution_count": null,
   "id": "30f7774d",
   "metadata": {},
   "outputs": [],
   "source": []
  },
  {
   "cell_type": "code",
   "execution_count": null,
   "id": "d56381d7",
   "metadata": {},
   "outputs": [],
   "source": []
  },
  {
   "cell_type": "code",
   "execution_count": null,
   "id": "2b925ad7",
   "metadata": {},
   "outputs": [],
   "source": []
  },
  {
   "cell_type": "code",
   "execution_count": null,
   "id": "75979cfc",
   "metadata": {},
   "outputs": [],
   "source": [
    "from time import sleep\n",
    "from tkinter import*\n",
    "from tkinter import simpledialog\n",
    "from tkinter import messagebox as msg\n",
    "import pyttsx3\n",
    "import speech_recognition as sr\n",
    "import os\n",
    "import shutil\n",
    "import datetime\n",
    "import socket\n",
    "\n",
    "def listen(duration):\n",
    "\tt= sr.Recognizer()\n",
    "\twith sr.Microphone() as source:\n",
    "\t\ttext = t.record(source, duration=duration)\n",
    "\t\ttry:\n",
    "\t\t\treturn t.recognize_google(text)\n",
    "\t\texcept:\n",
    "\t\t\treturn \"Didn't heard perfectly!\"\n",
    "\n",
    "def ssk():\n",
    "\t\ttext = listen(5)\n",
    "\t\te.insert(END, text)\n",
    "\t\tsh.place(x=2332,y=2322)\n",
    "\t\te.place(x=10,y=10)\n",
    "\n",
    "def write_text():\n",
    "\tif (socket.gethostbyname(socket.gethostname()) == \"127.0.0.1\"):\n",
    "\t\tmsg.showerror(\"App\",\"Your device is not connected to internet\")\n",
    "\telse:\n",
    "\t\te.place(x=10000,y=10000)\n",
    "\t\tsh.place(x=30,y=20)\n",
    "\t\tt.after(1000, ssk)\n",
    "\n",
    "def speak():\n",
    "\tpyttsx3.speak(e.get(\"1.0\",END).replace(\"\\n\",\"\"))\n",
    "\n",
    "def save():\n",
    "\tp = simpledialog.askstring(\"Save\",\"Enter filename.\")\n",
    "\tif (p+\".txt\" in os.listdir()):\n",
    "\t\tpyttsx3.speak(\"File with this name already exists\")\n",
    "\t\tmsg.showerror(\"Error\",\"File with this name already exists\")\n",
    "\telse:\n",
    "\t\topen(p+\".txt\",\"a\").write(e.get(\"1.0\",END))\n",
    "\t\tpyttsx3.speak(\"File saved successfully.\")\n",
    "\t\tmsg.showinfo(\"Success\",\"File saved successfully\")\n",
    "\n",
    "t= Tk()\n",
    "t.geometry(\"300x300\")\n",
    "t.title(\"Speech processing app\")\n",
    "Label(background=\"yellow\", width=100, height=1000).place(x=0,y=0)\n",
    "Button(text=\"Activate Microphone\", command =write_text).place(x=10,y=180)\n",
    "Button(text=\"Speak\", width=5, command=speak).place(x=10,y=220)\n",
    "Button(text=\"Save\", width=5, command=save).place(x=140,y=180)\n",
    "sh = Label(text=\"Say something!\",font=(\"Arial\",25) ,background=\"yellow\")\n",
    "e=Text(bd=4, height=8, width=32)\n",
    "e.place(x=10,y=10)\n",
    "t.mainloop()"
   ]
  },
  {
   "cell_type": "code",
   "execution_count": null,
   "id": "dd7569ee",
   "metadata": {},
   "outputs": [],
   "source": []
  },
  {
   "cell_type": "code",
   "execution_count": null,
   "id": "732ee106",
   "metadata": {},
   "outputs": [],
   "source": []
  }
 ],
 "metadata": {
  "kernelspec": {
   "display_name": "Python 3 (ipykernel)",
   "language": "python",
   "name": "python3"
  },
  "language_info": {
   "codemirror_mode": {
    "name": "ipython",
    "version": 3
   },
   "file_extension": ".py",
   "mimetype": "text/x-python",
   "name": "python",
   "nbconvert_exporter": "python",
   "pygments_lexer": "ipython3",
   "version": "3.11.2"
  }
 },
 "nbformat": 4,
 "nbformat_minor": 5
}
